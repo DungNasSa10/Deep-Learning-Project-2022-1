{
 "cells": [
  {
   "cell_type": "code",
   "execution_count": 1,
   "metadata": {},
   "outputs": [],
   "source": [
    "import pandas as pd\n",
    "from pytube import YouTube\n",
    "import os\n",
    "import soundfile, librosa\n",
    "import subprocess"
   ]
  },
  {
   "cell_type": "markdown",
   "metadata": {},
   "source": [
    "# Loading metadata"
   ]
  },
  {
   "cell_type": "code",
   "execution_count": 2,
   "metadata": {},
   "outputs": [],
   "source": [
    "metadata = pd.read_csv(\"../../data/metadata/Voice list - Dung.tsv\", sep='\\t')"
   ]
  },
  {
   "cell_type": "code",
   "execution_count": 3,
   "metadata": {},
   "outputs": [
    {
     "data": {
      "text/html": [
       "<div>\n",
       "<style scoped>\n",
       "    .dataframe tbody tr th:only-of-type {\n",
       "        vertical-align: middle;\n",
       "    }\n",
       "\n",
       "    .dataframe tbody tr th {\n",
       "        vertical-align: top;\n",
       "    }\n",
       "\n",
       "    .dataframe thead th {\n",
       "        text-align: right;\n",
       "    }\n",
       "</style>\n",
       "<table border=\"1\" class=\"dataframe\">\n",
       "  <thead>\n",
       "    <tr style=\"text-align: right;\">\n",
       "      <th></th>\n",
       "      <th>Crawled</th>\n",
       "      <th>Voice Name</th>\n",
       "      <th>Playlist URL</th>\n",
       "    </tr>\n",
       "  </thead>\n",
       "  <tbody>\n",
       "    <tr>\n",
       "      <th>0</th>\n",
       "      <td>False</td>\n",
       "      <td>Chu Văn Biên</td>\n",
       "      <td>https://www.youtube.com/watch?v=TIIb183IHw8&amp;t...</td>\n",
       "    </tr>\n",
       "    <tr>\n",
       "      <th>1</th>\n",
       "      <td>False</td>\n",
       "      <td>Đặng Thành Nam</td>\n",
       "      <td>https://www.youtube.com/watch?v=rC-Trfxk78I, h...</td>\n",
       "    </tr>\n",
       "    <tr>\n",
       "      <th>2</th>\n",
       "      <td>False</td>\n",
       "      <td>NaN</td>\n",
       "      <td>NaN</td>\n",
       "    </tr>\n",
       "    <tr>\n",
       "      <th>3</th>\n",
       "      <td>False</td>\n",
       "      <td>NaN</td>\n",
       "      <td>NaN</td>\n",
       "    </tr>\n",
       "    <tr>\n",
       "      <th>4</th>\n",
       "      <td>False</td>\n",
       "      <td>NaN</td>\n",
       "      <td>NaN</td>\n",
       "    </tr>\n",
       "  </tbody>\n",
       "</table>\n",
       "</div>"
      ],
      "text/plain": [
       "   Crawled      Voice Name                                       Playlist URL\n",
       "0    False    Chu Văn Biên   https://www.youtube.com/watch?v=TIIb183IHw8&t...\n",
       "1    False  Đặng Thành Nam  https://www.youtube.com/watch?v=rC-Trfxk78I, h...\n",
       "2    False             NaN                                                NaN\n",
       "3    False             NaN                                                NaN\n",
       "4    False             NaN                                                NaN"
      ]
     },
     "execution_count": 3,
     "metadata": {},
     "output_type": "execute_result"
    }
   ],
   "source": [
    "metadata.head()"
   ]
  },
  {
   "cell_type": "code",
   "execution_count": 4,
   "metadata": {},
   "outputs": [],
   "source": [
    "metadata = metadata.dropna()"
   ]
  },
  {
   "cell_type": "code",
   "execution_count": 5,
   "metadata": {},
   "outputs": [
    {
     "data": {
      "text/html": [
       "<div>\n",
       "<style scoped>\n",
       "    .dataframe tbody tr th:only-of-type {\n",
       "        vertical-align: middle;\n",
       "    }\n",
       "\n",
       "    .dataframe tbody tr th {\n",
       "        vertical-align: top;\n",
       "    }\n",
       "\n",
       "    .dataframe thead th {\n",
       "        text-align: right;\n",
       "    }\n",
       "</style>\n",
       "<table border=\"1\" class=\"dataframe\">\n",
       "  <thead>\n",
       "    <tr style=\"text-align: right;\">\n",
       "      <th></th>\n",
       "      <th>Crawled</th>\n",
       "      <th>Voice Name</th>\n",
       "      <th>Playlist URL</th>\n",
       "    </tr>\n",
       "  </thead>\n",
       "  <tbody>\n",
       "    <tr>\n",
       "      <th>0</th>\n",
       "      <td>False</td>\n",
       "      <td>Chu Văn Biên</td>\n",
       "      <td>https://www.youtube.com/watch?v=TIIb183IHw8&amp;t...</td>\n",
       "    </tr>\n",
       "    <tr>\n",
       "      <th>1</th>\n",
       "      <td>False</td>\n",
       "      <td>Đặng Thành Nam</td>\n",
       "      <td>https://www.youtube.com/watch?v=rC-Trfxk78I, h...</td>\n",
       "    </tr>\n",
       "  </tbody>\n",
       "</table>\n",
       "</div>"
      ],
      "text/plain": [
       "   Crawled      Voice Name                                       Playlist URL\n",
       "0    False    Chu Văn Biên   https://www.youtube.com/watch?v=TIIb183IHw8&t...\n",
       "1    False  Đặng Thành Nam  https://www.youtube.com/watch?v=rC-Trfxk78I, h..."
      ]
     },
     "execution_count": 5,
     "metadata": {},
     "output_type": "execute_result"
    }
   ],
   "source": [
    "metadata.head()"
   ]
  },
  {
   "cell_type": "code",
   "execution_count": 6,
   "metadata": {},
   "outputs": [
    {
     "data": {
      "text/html": [
       "<div>\n",
       "<style scoped>\n",
       "    .dataframe tbody tr th:only-of-type {\n",
       "        vertical-align: middle;\n",
       "    }\n",
       "\n",
       "    .dataframe tbody tr th {\n",
       "        vertical-align: top;\n",
       "    }\n",
       "\n",
       "    .dataframe thead th {\n",
       "        text-align: right;\n",
       "    }\n",
       "</style>\n",
       "<table border=\"1\" class=\"dataframe\">\n",
       "  <thead>\n",
       "    <tr style=\"text-align: right;\">\n",
       "      <th></th>\n",
       "      <th>Crawled</th>\n",
       "      <th>Voice Name</th>\n",
       "      <th>Playlist URL</th>\n",
       "    </tr>\n",
       "  </thead>\n",
       "  <tbody>\n",
       "    <tr>\n",
       "      <th>0</th>\n",
       "      <td>False</td>\n",
       "      <td>Chu Văn Biên</td>\n",
       "      <td>https://www.youtube.com/watch?v=TIIb183IHw8&amp;t...</td>\n",
       "    </tr>\n",
       "    <tr>\n",
       "      <th>1</th>\n",
       "      <td>False</td>\n",
       "      <td>Đặng Thành Nam</td>\n",
       "      <td>https://www.youtube.com/watch?v=rC-Trfxk78I, h...</td>\n",
       "    </tr>\n",
       "  </tbody>\n",
       "</table>\n",
       "</div>"
      ],
      "text/plain": [
       "   Crawled      Voice Name                                       Playlist URL\n",
       "0    False    Chu Văn Biên   https://www.youtube.com/watch?v=TIIb183IHw8&t...\n",
       "1    False  Đặng Thành Nam  https://www.youtube.com/watch?v=rC-Trfxk78I, h..."
      ]
     },
     "execution_count": 6,
     "metadata": {},
     "output_type": "execute_result"
    }
   ],
   "source": [
    "not_crawled_metadata = metadata[metadata[\"Crawled\"] == False]\n",
    "not_crawled_metadata"
   ]
  },
  {
   "cell_type": "code",
   "execution_count": 7,
   "metadata": {},
   "outputs": [],
   "source": [
    "prefix = 'd-'\n",
    "metadata[\"Voice Name\"] = metadata[\"Voice Name\"].apply(lambda x: prefix + x.strip().replace(\" \", \"-\"))"
   ]
  },
  {
   "cell_type": "code",
   "execution_count": 8,
   "metadata": {},
   "outputs": [
    {
     "data": {
      "text/html": [
       "<div>\n",
       "<style scoped>\n",
       "    .dataframe tbody tr th:only-of-type {\n",
       "        vertical-align: middle;\n",
       "    }\n",
       "\n",
       "    .dataframe tbody tr th {\n",
       "        vertical-align: top;\n",
       "    }\n",
       "\n",
       "    .dataframe thead th {\n",
       "        text-align: right;\n",
       "    }\n",
       "</style>\n",
       "<table border=\"1\" class=\"dataframe\">\n",
       "  <thead>\n",
       "    <tr style=\"text-align: right;\">\n",
       "      <th></th>\n",
       "      <th>Crawled</th>\n",
       "      <th>Voice Name</th>\n",
       "      <th>Playlist URL</th>\n",
       "    </tr>\n",
       "  </thead>\n",
       "  <tbody>\n",
       "    <tr>\n",
       "      <th>0</th>\n",
       "      <td>False</td>\n",
       "      <td>d-Chu-Văn-Biên</td>\n",
       "      <td>https://www.youtube.com/watch?v=TIIb183IHw8&amp;t...</td>\n",
       "    </tr>\n",
       "    <tr>\n",
       "      <th>1</th>\n",
       "      <td>False</td>\n",
       "      <td>d-Đặng-Thành-Nam</td>\n",
       "      <td>https://www.youtube.com/watch?v=rC-Trfxk78I, h...</td>\n",
       "    </tr>\n",
       "  </tbody>\n",
       "</table>\n",
       "</div>"
      ],
      "text/plain": [
       "   Crawled        Voice Name  \\\n",
       "0    False    d-Chu-Văn-Biên   \n",
       "1    False  d-Đặng-Thành-Nam   \n",
       "\n",
       "                                        Playlist URL  \n",
       "0   https://www.youtube.com/watch?v=TIIb183IHw8&t...  \n",
       "1  https://www.youtube.com/watch?v=rC-Trfxk78I, h...  "
      ]
     },
     "execution_count": 8,
     "metadata": {},
     "output_type": "execute_result"
    }
   ],
   "source": [
    "metadata.head()"
   ]
  },
  {
   "cell_type": "markdown",
   "metadata": {},
   "source": [
    "# Downloading mp3 and converting to wav "
   ]
  },
  {
   "cell_type": "code",
   "execution_count": 9,
   "metadata": {},
   "outputs": [
    {
     "data": {
      "text/plain": [
       "Crawled                                                     False\n",
       "Voice Name                                         d-Chu-Văn-Biên\n",
       "Playlist URL     https://www.youtube.com/watch?v=TIIb183IHw8&t...\n",
       "Name: 0, dtype: object"
      ]
     },
     "execution_count": 9,
     "metadata": {},
     "output_type": "execute_result"
    }
   ],
   "source": [
    "metadata_0 = metadata.iloc[0]\n",
    "metadata_0"
   ]
  },
  {
   "cell_type": "code",
   "execution_count": 10,
   "metadata": {},
   "outputs": [
    {
     "data": {
      "text/plain": [
       "'../../data/wav/d-Chu-Văn-Biên/'"
      ]
     },
     "execution_count": 10,
     "metadata": {},
     "output_type": "execute_result"
    }
   ],
   "source": [
    "root_dir = \"../../data/wav/\"\n",
    "save_dir = root_dir + metadata_0[\"Voice Name\"] + '/'\n",
    "save_dir"
   ]
  },
  {
   "cell_type": "code",
   "execution_count": 11,
   "metadata": {},
   "outputs": [],
   "source": [
    "if not os.path.exists(save_dir):\n",
    "    os.makedirs(save_dir)"
   ]
  },
  {
   "cell_type": "code",
   "execution_count": 12,
   "metadata": {},
   "outputs": [
    {
     "data": {
      "text/plain": [
       "['https://www.youtube.com/watch?v=TIIb183IHw8&t=9s',\n",
       " 'https://www.youtube.com/watch?v=Ngh995cseAo&t=300s',\n",
       " 'https://www.youtube.com/watch?v=v1Y89MUh118',\n",
       " 'https://www.youtube.com/watch?v=yATyswMXjg0']"
      ]
     },
     "execution_count": 12,
     "metadata": {},
     "output_type": "execute_result"
    }
   ],
   "source": [
    "urls = [url.strip() for url in metadata_0[\"Playlist URL\"].split(',')]\n",
    "urls"
   ]
  },
  {
   "cell_type": "code",
   "execution_count": 39,
   "metadata": {},
   "outputs": [],
   "source": [
    "def download_mp3(url: str, destination: str):\n",
    "    yt = YouTube(url)\n",
    "    \n",
    "    # extract only audio\n",
    "    audio = yt.streams.filter(only_audio=True).order_by(\"abr\").desc().first()\n",
    "    audio_name = audio.default_filename.split('.')[0]\n",
    "\n",
    "    if os.path.exists(destination + audio_name + '.mp3') or os.path.exists(destination + audio_name + '.wav'):\n",
    "        mp3_path = \"\"\n",
    "    else:\n",
    "        # download the file\n",
    "        out_path = audio.download(output_path=destination)\n",
    "        \n",
    "        # save the file\n",
    "        base, extension = os.path.splitext(out_path)\n",
    "        mp3_path = base + '.mp3'\n",
    "        os.rename(out_path, mp3_path)\n",
    "\n",
    "    return mp3_path"
   ]
  },
  {
   "cell_type": "code",
   "execution_count": 33,
   "metadata": {},
   "outputs": [],
   "source": [
    "def mp3_to_wav(mp3_path):\n",
    "    wav_path = os.path.splitext(mp3_path)[0] + '.wav'\n",
    "    subprocess.call(['ffmpeg', '-i', mp3_path, wav_path])\n",
    "\n",
    "    return wav_path"
   ]
  },
  {
   "cell_type": "code",
   "execution_count": 34,
   "metadata": {},
   "outputs": [],
   "source": [
    "def resample_wav(wav_path):\n",
    "    y, sr = librosa.load(wav_path)       \n",
    "    y_16k = librosa.resample(y, orig_sr=sr, target_sr=16000)\n",
    "    y_mono = librosa.to_mono(y_16k)\n",
    "    soundfile.write(wav_path, y_mono, 16000)"
   ]
  },
  {
   "cell_type": "code",
   "execution_count": 40,
   "metadata": {},
   "outputs": [],
   "source": [
    "for url in urls:\n",
    "    if not os.path.exists(save_dir + url):\n",
    "        mp3_path = download_mp3(url, save_dir)\n",
    "        if mp3_path != \"\":\n",
    "            wav_path = mp3_to_wav(mp3_path)\n",
    "            resample_wav(wav_path)\n",
    "            os.remove(mp3_path)"
   ]
  },
  {
   "cell_type": "markdown",
   "metadata": {},
   "source": [
    "# VAD"
   ]
  },
  {
   "cell_type": "code",
   "execution_count": null,
   "metadata": {},
   "outputs": [],
   "source": []
  }
 ],
 "metadata": {
  "kernelspec": {
   "display_name": "Python 3.8.12 ('LearnML')",
   "language": "python",
   "name": "python3"
  },
  "language_info": {
   "codemirror_mode": {
    "name": "ipython",
    "version": 3
   },
   "file_extension": ".py",
   "mimetype": "text/x-python",
   "name": "python",
   "nbconvert_exporter": "python",
   "pygments_lexer": "ipython3",
   "version": "3.8.12"
  },
  "orig_nbformat": 4,
  "vscode": {
   "interpreter": {
    "hash": "7a92c992b800fa774aac7d5822a596282d125a26635bcd06f076e6986145244f"
   }
  }
 },
 "nbformat": 4,
 "nbformat_minor": 2
}
