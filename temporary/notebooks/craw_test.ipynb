{
  "cells": [
    {
      "cell_type": "code",
      "execution_count": 16,
      "metadata": {
        "colab": {
          "base_uri": "https://localhost:8080/"
        },
        "id": "BT6lqYgNyuGT",
        "outputId": "c667d408-3fe9-45cd-e13a-e70eb8d855a4"
      },
      "outputs": [
        {
          "output_type": "stream",
          "name": "stdout",
          "text": [
            "Mounted at drive\n"
          ]
        }
      ],
      "source": [
        "from google.colab import drive\n",
        "drive.mount('drive')"
      ]
    },
    {
      "cell_type": "code",
      "execution_count": 1,
      "metadata": {
        "colab": {
          "base_uri": "https://localhost:8080/"
        },
        "id": "ktS3NWDjy_ll",
        "outputId": "2b03198e-8e12-430e-ac66-26a868b36fd3"
      },
      "outputs": [
        {
          "output_type": "stream",
          "name": "stdout",
          "text": [
            "Looking in indexes: https://pypi.org/simple, https://us-python.pkg.dev/colab-wheels/public/simple/\n",
            "Requirement already satisfied: pytube in /usr/local/lib/python3.7/dist-packages (12.1.0)\n"
          ]
        }
      ],
      "source": [
        "!pip install pytube"
      ]
    },
    {
      "cell_type": "code",
      "execution_count": 2,
      "metadata": {
        "id": "Tfi1qNPcx9oI"
      },
      "outputs": [],
      "source": [
        "import pandas as pd\n",
        "from pytube import YouTube\n",
        "import os\n",
        "import soundfile, librosa\n",
        "import subprocess"
      ]
    },
    {
      "cell_type": "markdown",
      "metadata": {
        "id": "oljVGwHtx9oM"
      },
      "source": [
        "# Loading metadata"
      ]
    },
    {
      "cell_type": "code",
      "execution_count": null,
      "metadata": {
        "id": "qQv8om7Fx9oN"
      },
      "outputs": [],
      "source": [
        "metadata = pd.read_csv(\"/content/drive/MyDrive/Deep Learning project/data/metadata/Voice list - Dung.tsv\", sep='\\t', header=1)"
      ]
    },
    {
      "cell_type": "code",
      "execution_count": null,
      "metadata": {
        "colab": {
          "base_uri": "https://localhost:8080/",
          "height": 1000
        },
        "id": "d4Ttjp4Ix9oO",
        "outputId": "170318af-2caf-4f72-bf5b-ca3dc8908335"
      },
      "outputs": [
        {
          "data": {
            "text/html": [
              "\n",
              "  <div id=\"df-5fce5ba5-df45-4cc8-b7f2-c40b0ea253e7\">\n",
              "    <div class=\"colab-df-container\">\n",
              "      <div>\n",
              "<style scoped>\n",
              "    .dataframe tbody tr th:only-of-type {\n",
              "        vertical-align: middle;\n",
              "    }\n",
              "\n",
              "    .dataframe tbody tr th {\n",
              "        vertical-align: top;\n",
              "    }\n",
              "\n",
              "    .dataframe thead th {\n",
              "        text-align: right;\n",
              "    }\n",
              "</style>\n",
              "<table border=\"1\" class=\"dataframe\">\n",
              "  <thead>\n",
              "    <tr style=\"text-align: right;\">\n",
              "      <th></th>\n",
              "      <th>Crawled</th>\n",
              "      <th>Voice Name</th>\n",
              "      <th>Playlist URL</th>\n",
              "    </tr>\n",
              "  </thead>\n",
              "  <tbody>\n",
              "    <tr>\n",
              "      <th>0</th>\n",
              "      <td>False</td>\n",
              "      <td>Chu Văn Biên</td>\n",
              "      <td>https://www.youtube.com/watch?v=lb2K7RFaSWg&amp;t=...</td>\n",
              "    </tr>\n",
              "    <tr>\n",
              "      <th>1</th>\n",
              "      <td>False</td>\n",
              "      <td>Vted-Đặng Thành Nam</td>\n",
              "      <td>https://www.youtube.com/watch?v=TaFQlUVmeEM, h...</td>\n",
              "    </tr>\n",
              "    <tr>\n",
              "      <th>2</th>\n",
              "      <td>False</td>\n",
              "      <td>Nguyễn Anh Phong</td>\n",
              "      <td>https://www.youtube.com/watch?v=3C4SjX4NVDE, h...</td>\n",
              "    </tr>\n",
              "    <tr>\n",
              "      <th>3</th>\n",
              "      <td>False</td>\n",
              "      <td>Cô Vũ Mai Phương Official</td>\n",
              "      <td>https://www.youtube.com/watch?v=cqjn5XBamRE, h...</td>\n",
              "    </tr>\n",
              "    <tr>\n",
              "      <th>4</th>\n",
              "      <td>False</td>\n",
              "      <td>Bi Huỳnh Senpai</td>\n",
              "      <td>https://www.youtube.com/watch?v=CC5oWWQvZlk, h...</td>\n",
              "    </tr>\n",
              "    <tr>\n",
              "      <th>5</th>\n",
              "      <td>False</td>\n",
              "      <td>Top Manga</td>\n",
              "      <td>https://www.youtube.com/watch?v=GOoLS5r5q5k, h...</td>\n",
              "    </tr>\n",
              "    <tr>\n",
              "      <th>6</th>\n",
              "      <td>False</td>\n",
              "      <td>Sakura Review</td>\n",
              "      <td>https://www.youtube.com/watch?v=xraIbICYMYo, h...</td>\n",
              "    </tr>\n",
              "    <tr>\n",
              "      <th>7</th>\n",
              "      <td>False</td>\n",
              "      <td>Góc Khán Đài (Hoang)</td>\n",
              "      <td>https://www.youtube.com/watch?v=Q0w9rr5JOYM, h...</td>\n",
              "    </tr>\n",
              "    <tr>\n",
              "      <th>8</th>\n",
              "      <td>False</td>\n",
              "      <td>K team</td>\n",
              "      <td>https://www.youtube.com/watch?v=3h-4nYHw4U0, h...</td>\n",
              "    </tr>\n",
              "    <tr>\n",
              "      <th>9</th>\n",
              "      <td>False</td>\n",
              "      <td>Tạp Hóa Comic</td>\n",
              "      <td>https://www.youtube.com/watch?v=B4jr-s7qRX4, h...</td>\n",
              "    </tr>\n",
              "    <tr>\n",
              "      <th>10</th>\n",
              "      <td>False</td>\n",
              "      <td>Bay Anime</td>\n",
              "      <td>https://www.youtube.com/watch?v=0ttXv8ZRrUg, h...</td>\n",
              "    </tr>\n",
              "    <tr>\n",
              "      <th>11</th>\n",
              "      <td>False</td>\n",
              "      <td>Funny Luffy</td>\n",
              "      <td>https://www.youtube.com/watch?v=-mJQf-GFndw, h...</td>\n",
              "    </tr>\n",
              "    <tr>\n",
              "      <th>12</th>\n",
              "      <td>False</td>\n",
              "      <td>Truyện Tổng Hợp</td>\n",
              "      <td>https://www.youtube.com/watch?v=n8NYCggqjVQ, h...</td>\n",
              "    </tr>\n",
              "    <tr>\n",
              "      <th>13</th>\n",
              "      <td>False</td>\n",
              "      <td>CodeXplore</td>\n",
              "      <td>https://www.youtube.com/watch?v=IiTZkYAMSJI, h...</td>\n",
              "    </tr>\n",
              "    <tr>\n",
              "      <th>14</th>\n",
              "      <td>False</td>\n",
              "      <td>Thân Quang Khoát</td>\n",
              "      <td>https://www.youtube.com/watch?v=6WpU1hsCknk, h...</td>\n",
              "    </tr>\n",
              "    <tr>\n",
              "      <th>15</th>\n",
              "      <td>False</td>\n",
              "      <td>Trang Anh Official</td>\n",
              "      <td>https://www.youtube.com/watch?v=gLQroNgTNzA, h...</td>\n",
              "    </tr>\n",
              "    <tr>\n",
              "      <th>16</th>\n",
              "      <td>False</td>\n",
              "      <td>AHUST Group (Hồ Văn Diên)</td>\n",
              "      <td>https://www.youtube.com/watch?v=krFI3wzS2ZY&amp;t=...</td>\n",
              "    </tr>\n",
              "    <tr>\n",
              "      <th>17</th>\n",
              "      <td>False</td>\n",
              "      <td>Sci-Love</td>\n",
              "      <td>https://www.youtube.com/watch?v=IzLGimlSw0Y, h...</td>\n",
              "    </tr>\n",
              "    <tr>\n",
              "      <th>18</th>\n",
              "      <td>False</td>\n",
              "      <td>Mangaime Official</td>\n",
              "      <td>https://www.youtube.com/watch?v=Tzf9Z7Q4m-c, h...</td>\n",
              "    </tr>\n",
              "    <tr>\n",
              "      <th>19</th>\n",
              "      <td>False</td>\n",
              "      <td>Thư Viện Thiên Văn</td>\n",
              "      <td>https://www.youtube.com/watch?v=JvCnOZEn4vI, h...</td>\n",
              "    </tr>\n",
              "    <tr>\n",
              "      <th>20</th>\n",
              "      <td>False</td>\n",
              "      <td>NaN</td>\n",
              "      <td>NaN</td>\n",
              "    </tr>\n",
              "    <tr>\n",
              "      <th>21</th>\n",
              "      <td>False</td>\n",
              "      <td>NaN</td>\n",
              "      <td>NaN</td>\n",
              "    </tr>\n",
              "    <tr>\n",
              "      <th>22</th>\n",
              "      <td>False</td>\n",
              "      <td>NaN</td>\n",
              "      <td>NaN</td>\n",
              "    </tr>\n",
              "    <tr>\n",
              "      <th>23</th>\n",
              "      <td>False</td>\n",
              "      <td>NaN</td>\n",
              "      <td>NaN</td>\n",
              "    </tr>\n",
              "    <tr>\n",
              "      <th>24</th>\n",
              "      <td>False</td>\n",
              "      <td>NaN</td>\n",
              "      <td>NaN</td>\n",
              "    </tr>\n",
              "    <tr>\n",
              "      <th>25</th>\n",
              "      <td>False</td>\n",
              "      <td>NaN</td>\n",
              "      <td>NaN</td>\n",
              "    </tr>\n",
              "    <tr>\n",
              "      <th>26</th>\n",
              "      <td>False</td>\n",
              "      <td>NaN</td>\n",
              "      <td>NaN</td>\n",
              "    </tr>\n",
              "    <tr>\n",
              "      <th>27</th>\n",
              "      <td>False</td>\n",
              "      <td>NaN</td>\n",
              "      <td>NaN</td>\n",
              "    </tr>\n",
              "    <tr>\n",
              "      <th>28</th>\n",
              "      <td>False</td>\n",
              "      <td>NaN</td>\n",
              "      <td>NaN</td>\n",
              "    </tr>\n",
              "    <tr>\n",
              "      <th>29</th>\n",
              "      <td>False</td>\n",
              "      <td>NaN</td>\n",
              "      <td>NaN</td>\n",
              "    </tr>\n",
              "    <tr>\n",
              "      <th>30</th>\n",
              "      <td>False</td>\n",
              "      <td>NaN</td>\n",
              "      <td>NaN</td>\n",
              "    </tr>\n",
              "    <tr>\n",
              "      <th>31</th>\n",
              "      <td>False</td>\n",
              "      <td>NaN</td>\n",
              "      <td>NaN</td>\n",
              "    </tr>\n",
              "    <tr>\n",
              "      <th>32</th>\n",
              "      <td>False</td>\n",
              "      <td>NaN</td>\n",
              "      <td>NaN</td>\n",
              "    </tr>\n",
              "    <tr>\n",
              "      <th>33</th>\n",
              "      <td>False</td>\n",
              "      <td>NaN</td>\n",
              "      <td>NaN</td>\n",
              "    </tr>\n",
              "    <tr>\n",
              "      <th>34</th>\n",
              "      <td>False</td>\n",
              "      <td>NaN</td>\n",
              "      <td>NaN</td>\n",
              "    </tr>\n",
              "    <tr>\n",
              "      <th>35</th>\n",
              "      <td>False</td>\n",
              "      <td>NaN</td>\n",
              "      <td>NaN</td>\n",
              "    </tr>\n",
              "    <tr>\n",
              "      <th>36</th>\n",
              "      <td>False</td>\n",
              "      <td>NaN</td>\n",
              "      <td>NaN</td>\n",
              "    </tr>\n",
              "    <tr>\n",
              "      <th>37</th>\n",
              "      <td>False</td>\n",
              "      <td>NaN</td>\n",
              "      <td>NaN</td>\n",
              "    </tr>\n",
              "    <tr>\n",
              "      <th>38</th>\n",
              "      <td>False</td>\n",
              "      <td>NaN</td>\n",
              "      <td>NaN</td>\n",
              "    </tr>\n",
              "    <tr>\n",
              "      <th>39</th>\n",
              "      <td>False</td>\n",
              "      <td>NaN</td>\n",
              "      <td>NaN</td>\n",
              "    </tr>\n",
              "    <tr>\n",
              "      <th>40</th>\n",
              "      <td>False</td>\n",
              "      <td>NaN</td>\n",
              "      <td>NaN</td>\n",
              "    </tr>\n",
              "    <tr>\n",
              "      <th>41</th>\n",
              "      <td>False</td>\n",
              "      <td>NaN</td>\n",
              "      <td>NaN</td>\n",
              "    </tr>\n",
              "    <tr>\n",
              "      <th>42</th>\n",
              "      <td>False</td>\n",
              "      <td>NaN</td>\n",
              "      <td>NaN</td>\n",
              "    </tr>\n",
              "    <tr>\n",
              "      <th>43</th>\n",
              "      <td>False</td>\n",
              "      <td>NaN</td>\n",
              "      <td>NaN</td>\n",
              "    </tr>\n",
              "    <tr>\n",
              "      <th>44</th>\n",
              "      <td>False</td>\n",
              "      <td>NaN</td>\n",
              "      <td>NaN</td>\n",
              "    </tr>\n",
              "    <tr>\n",
              "      <th>45</th>\n",
              "      <td>False</td>\n",
              "      <td>NaN</td>\n",
              "      <td>NaN</td>\n",
              "    </tr>\n",
              "    <tr>\n",
              "      <th>46</th>\n",
              "      <td>False</td>\n",
              "      <td>NaN</td>\n",
              "      <td>NaN</td>\n",
              "    </tr>\n",
              "    <tr>\n",
              "      <th>47</th>\n",
              "      <td>False</td>\n",
              "      <td>NaN</td>\n",
              "      <td>NaN</td>\n",
              "    </tr>\n",
              "    <tr>\n",
              "      <th>48</th>\n",
              "      <td>False</td>\n",
              "      <td>NaN</td>\n",
              "      <td>NaN</td>\n",
              "    </tr>\n",
              "    <tr>\n",
              "      <th>49</th>\n",
              "      <td>False</td>\n",
              "      <td>NaN</td>\n",
              "      <td>NaN</td>\n",
              "    </tr>\n",
              "    <tr>\n",
              "      <th>50</th>\n",
              "      <td>False</td>\n",
              "      <td>NaN</td>\n",
              "      <td>NaN</td>\n",
              "    </tr>\n",
              "    <tr>\n",
              "      <th>51</th>\n",
              "      <td>False</td>\n",
              "      <td>NaN</td>\n",
              "      <td>NaN</td>\n",
              "    </tr>\n",
              "    <tr>\n",
              "      <th>52</th>\n",
              "      <td>False</td>\n",
              "      <td>NaN</td>\n",
              "      <td>NaN</td>\n",
              "    </tr>\n",
              "    <tr>\n",
              "      <th>53</th>\n",
              "      <td>False</td>\n",
              "      <td>NaN</td>\n",
              "      <td>NaN</td>\n",
              "    </tr>\n",
              "  </tbody>\n",
              "</table>\n",
              "</div>\n",
              "      <button class=\"colab-df-convert\" onclick=\"convertToInteractive('df-5fce5ba5-df45-4cc8-b7f2-c40b0ea253e7')\"\n",
              "              title=\"Convert this dataframe to an interactive table.\"\n",
              "              style=\"display:none;\">\n",
              "        \n",
              "  <svg xmlns=\"http://www.w3.org/2000/svg\" height=\"24px\"viewBox=\"0 0 24 24\"\n",
              "       width=\"24px\">\n",
              "    <path d=\"M0 0h24v24H0V0z\" fill=\"none\"/>\n",
              "    <path d=\"M18.56 5.44l.94 2.06.94-2.06 2.06-.94-2.06-.94-.94-2.06-.94 2.06-2.06.94zm-11 1L8.5 8.5l.94-2.06 2.06-.94-2.06-.94L8.5 2.5l-.94 2.06-2.06.94zm10 10l.94 2.06.94-2.06 2.06-.94-2.06-.94-.94-2.06-.94 2.06-2.06.94z\"/><path d=\"M17.41 7.96l-1.37-1.37c-.4-.4-.92-.59-1.43-.59-.52 0-1.04.2-1.43.59L10.3 9.45l-7.72 7.72c-.78.78-.78 2.05 0 2.83L4 21.41c.39.39.9.59 1.41.59.51 0 1.02-.2 1.41-.59l7.78-7.78 2.81-2.81c.8-.78.8-2.07 0-2.86zM5.41 20L4 18.59l7.72-7.72 1.47 1.35L5.41 20z\"/>\n",
              "  </svg>\n",
              "      </button>\n",
              "      \n",
              "  <style>\n",
              "    .colab-df-container {\n",
              "      display:flex;\n",
              "      flex-wrap:wrap;\n",
              "      gap: 12px;\n",
              "    }\n",
              "\n",
              "    .colab-df-convert {\n",
              "      background-color: #E8F0FE;\n",
              "      border: none;\n",
              "      border-radius: 50%;\n",
              "      cursor: pointer;\n",
              "      display: none;\n",
              "      fill: #1967D2;\n",
              "      height: 32px;\n",
              "      padding: 0 0 0 0;\n",
              "      width: 32px;\n",
              "    }\n",
              "\n",
              "    .colab-df-convert:hover {\n",
              "      background-color: #E2EBFA;\n",
              "      box-shadow: 0px 1px 2px rgba(60, 64, 67, 0.3), 0px 1px 3px 1px rgba(60, 64, 67, 0.15);\n",
              "      fill: #174EA6;\n",
              "    }\n",
              "\n",
              "    [theme=dark] .colab-df-convert {\n",
              "      background-color: #3B4455;\n",
              "      fill: #D2E3FC;\n",
              "    }\n",
              "\n",
              "    [theme=dark] .colab-df-convert:hover {\n",
              "      background-color: #434B5C;\n",
              "      box-shadow: 0px 1px 3px 1px rgba(0, 0, 0, 0.15);\n",
              "      filter: drop-shadow(0px 1px 2px rgba(0, 0, 0, 0.3));\n",
              "      fill: #FFFFFF;\n",
              "    }\n",
              "  </style>\n",
              "\n",
              "      <script>\n",
              "        const buttonEl =\n",
              "          document.querySelector('#df-5fce5ba5-df45-4cc8-b7f2-c40b0ea253e7 button.colab-df-convert');\n",
              "        buttonEl.style.display =\n",
              "          google.colab.kernel.accessAllowed ? 'block' : 'none';\n",
              "\n",
              "        async function convertToInteractive(key) {\n",
              "          const element = document.querySelector('#df-5fce5ba5-df45-4cc8-b7f2-c40b0ea253e7');\n",
              "          const dataTable =\n",
              "            await google.colab.kernel.invokeFunction('convertToInteractive',\n",
              "                                                     [key], {});\n",
              "          if (!dataTable) return;\n",
              "\n",
              "          const docLinkHtml = 'Like what you see? Visit the ' +\n",
              "            '<a target=\"_blank\" href=https://colab.research.google.com/notebooks/data_table.ipynb>data table notebook</a>'\n",
              "            + ' to learn more about interactive tables.';\n",
              "          element.innerHTML = '';\n",
              "          dataTable['output_type'] = 'display_data';\n",
              "          await google.colab.output.renderOutput(dataTable, element);\n",
              "          const docLink = document.createElement('div');\n",
              "          docLink.innerHTML = docLinkHtml;\n",
              "          element.appendChild(docLink);\n",
              "        }\n",
              "      </script>\n",
              "    </div>\n",
              "  </div>\n",
              "  "
            ],
            "text/plain": [
              "    Crawled                 Voice Name  \\\n",
              "0     False               Chu Văn Biên   \n",
              "1     False        Vted-Đặng Thành Nam   \n",
              "2     False           Nguyễn Anh Phong   \n",
              "3     False  Cô Vũ Mai Phương Official   \n",
              "4     False            Bi Huỳnh Senpai   \n",
              "5     False                  Top Manga   \n",
              "6     False              Sakura Review   \n",
              "7     False       Góc Khán Đài (Hoang)   \n",
              "8     False                     K team   \n",
              "9     False              Tạp Hóa Comic   \n",
              "10    False                  Bay Anime   \n",
              "11    False                Funny Luffy   \n",
              "12    False            Truyện Tổng Hợp   \n",
              "13    False                 CodeXplore   \n",
              "14    False           Thân Quang Khoát   \n",
              "15    False         Trang Anh Official   \n",
              "16    False  AHUST Group (Hồ Văn Diên)   \n",
              "17    False                   Sci-Love   \n",
              "18    False          Mangaime Official   \n",
              "19    False         Thư Viện Thiên Văn   \n",
              "20    False                        NaN   \n",
              "21    False                        NaN   \n",
              "22    False                        NaN   \n",
              "23    False                        NaN   \n",
              "24    False                        NaN   \n",
              "25    False                        NaN   \n",
              "26    False                        NaN   \n",
              "27    False                        NaN   \n",
              "28    False                        NaN   \n",
              "29    False                        NaN   \n",
              "30    False                        NaN   \n",
              "31    False                        NaN   \n",
              "32    False                        NaN   \n",
              "33    False                        NaN   \n",
              "34    False                        NaN   \n",
              "35    False                        NaN   \n",
              "36    False                        NaN   \n",
              "37    False                        NaN   \n",
              "38    False                        NaN   \n",
              "39    False                        NaN   \n",
              "40    False                        NaN   \n",
              "41    False                        NaN   \n",
              "42    False                        NaN   \n",
              "43    False                        NaN   \n",
              "44    False                        NaN   \n",
              "45    False                        NaN   \n",
              "46    False                        NaN   \n",
              "47    False                        NaN   \n",
              "48    False                        NaN   \n",
              "49    False                        NaN   \n",
              "50    False                        NaN   \n",
              "51    False                        NaN   \n",
              "52    False                        NaN   \n",
              "53    False                        NaN   \n",
              "\n",
              "                                         Playlist URL  \n",
              "0   https://www.youtube.com/watch?v=lb2K7RFaSWg&t=...  \n",
              "1   https://www.youtube.com/watch?v=TaFQlUVmeEM, h...  \n",
              "2   https://www.youtube.com/watch?v=3C4SjX4NVDE, h...  \n",
              "3   https://www.youtube.com/watch?v=cqjn5XBamRE, h...  \n",
              "4   https://www.youtube.com/watch?v=CC5oWWQvZlk, h...  \n",
              "5   https://www.youtube.com/watch?v=GOoLS5r5q5k, h...  \n",
              "6   https://www.youtube.com/watch?v=xraIbICYMYo, h...  \n",
              "7   https://www.youtube.com/watch?v=Q0w9rr5JOYM, h...  \n",
              "8   https://www.youtube.com/watch?v=3h-4nYHw4U0, h...  \n",
              "9   https://www.youtube.com/watch?v=B4jr-s7qRX4, h...  \n",
              "10  https://www.youtube.com/watch?v=0ttXv8ZRrUg, h...  \n",
              "11  https://www.youtube.com/watch?v=-mJQf-GFndw, h...  \n",
              "12  https://www.youtube.com/watch?v=n8NYCggqjVQ, h...  \n",
              "13  https://www.youtube.com/watch?v=IiTZkYAMSJI, h...  \n",
              "14  https://www.youtube.com/watch?v=6WpU1hsCknk, h...  \n",
              "15  https://www.youtube.com/watch?v=gLQroNgTNzA, h...  \n",
              "16  https://www.youtube.com/watch?v=krFI3wzS2ZY&t=...  \n",
              "17  https://www.youtube.com/watch?v=IzLGimlSw0Y, h...  \n",
              "18  https://www.youtube.com/watch?v=Tzf9Z7Q4m-c, h...  \n",
              "19  https://www.youtube.com/watch?v=JvCnOZEn4vI, h...  \n",
              "20                                                NaN  \n",
              "21                                                NaN  \n",
              "22                                                NaN  \n",
              "23                                                NaN  \n",
              "24                                                NaN  \n",
              "25                                                NaN  \n",
              "26                                                NaN  \n",
              "27                                                NaN  \n",
              "28                                                NaN  \n",
              "29                                                NaN  \n",
              "30                                                NaN  \n",
              "31                                                NaN  \n",
              "32                                                NaN  \n",
              "33                                                NaN  \n",
              "34                                                NaN  \n",
              "35                                                NaN  \n",
              "36                                                NaN  \n",
              "37                                                NaN  \n",
              "38                                                NaN  \n",
              "39                                                NaN  \n",
              "40                                                NaN  \n",
              "41                                                NaN  \n",
              "42                                                NaN  \n",
              "43                                                NaN  \n",
              "44                                                NaN  \n",
              "45                                                NaN  \n",
              "46                                                NaN  \n",
              "47                                                NaN  \n",
              "48                                                NaN  \n",
              "49                                                NaN  \n",
              "50                                                NaN  \n",
              "51                                                NaN  \n",
              "52                                                NaN  \n",
              "53                                                NaN  "
            ]
          },
          "execution_count": 5,
          "metadata": {},
          "output_type": "execute_result"
        }
      ],
      "source": [
        "metadata "
      ]
    },
    {
      "cell_type": "code",
      "execution_count": null,
      "metadata": {
        "id": "6ByWlgPox9oP"
      },
      "outputs": [],
      "source": [
        "metadata = metadata.dropna()"
      ]
    },
    {
      "cell_type": "code",
      "execution_count": null,
      "metadata": {
        "colab": {
          "base_uri": "https://localhost:8080/",
          "height": 676
        },
        "id": "hKLfCYngx9oP",
        "outputId": "6da1a82c-9eac-4631-ea7b-94b46c971ec1"
      },
      "outputs": [
        {
          "data": {
            "text/html": [
              "\n",
              "  <div id=\"df-8a700461-cd44-45d7-8f80-b13e5f339358\">\n",
              "    <div class=\"colab-df-container\">\n",
              "      <div>\n",
              "<style scoped>\n",
              "    .dataframe tbody tr th:only-of-type {\n",
              "        vertical-align: middle;\n",
              "    }\n",
              "\n",
              "    .dataframe tbody tr th {\n",
              "        vertical-align: top;\n",
              "    }\n",
              "\n",
              "    .dataframe thead th {\n",
              "        text-align: right;\n",
              "    }\n",
              "</style>\n",
              "<table border=\"1\" class=\"dataframe\">\n",
              "  <thead>\n",
              "    <tr style=\"text-align: right;\">\n",
              "      <th></th>\n",
              "      <th>Crawled</th>\n",
              "      <th>Voice Name</th>\n",
              "      <th>Playlist URL</th>\n",
              "    </tr>\n",
              "  </thead>\n",
              "  <tbody>\n",
              "    <tr>\n",
              "      <th>0</th>\n",
              "      <td>False</td>\n",
              "      <td>Chu Văn Biên</td>\n",
              "      <td>https://www.youtube.com/watch?v=lb2K7RFaSWg&amp;t=...</td>\n",
              "    </tr>\n",
              "    <tr>\n",
              "      <th>1</th>\n",
              "      <td>False</td>\n",
              "      <td>Vted-Đặng Thành Nam</td>\n",
              "      <td>https://www.youtube.com/watch?v=TaFQlUVmeEM, h...</td>\n",
              "    </tr>\n",
              "    <tr>\n",
              "      <th>2</th>\n",
              "      <td>False</td>\n",
              "      <td>Nguyễn Anh Phong</td>\n",
              "      <td>https://www.youtube.com/watch?v=3C4SjX4NVDE, h...</td>\n",
              "    </tr>\n",
              "    <tr>\n",
              "      <th>3</th>\n",
              "      <td>False</td>\n",
              "      <td>Cô Vũ Mai Phương Official</td>\n",
              "      <td>https://www.youtube.com/watch?v=cqjn5XBamRE, h...</td>\n",
              "    </tr>\n",
              "    <tr>\n",
              "      <th>4</th>\n",
              "      <td>False</td>\n",
              "      <td>Bi Huỳnh Senpai</td>\n",
              "      <td>https://www.youtube.com/watch?v=CC5oWWQvZlk, h...</td>\n",
              "    </tr>\n",
              "    <tr>\n",
              "      <th>5</th>\n",
              "      <td>False</td>\n",
              "      <td>Top Manga</td>\n",
              "      <td>https://www.youtube.com/watch?v=GOoLS5r5q5k, h...</td>\n",
              "    </tr>\n",
              "    <tr>\n",
              "      <th>6</th>\n",
              "      <td>False</td>\n",
              "      <td>Sakura Review</td>\n",
              "      <td>https://www.youtube.com/watch?v=xraIbICYMYo, h...</td>\n",
              "    </tr>\n",
              "    <tr>\n",
              "      <th>7</th>\n",
              "      <td>False</td>\n",
              "      <td>Góc Khán Đài (Hoang)</td>\n",
              "      <td>https://www.youtube.com/watch?v=Q0w9rr5JOYM, h...</td>\n",
              "    </tr>\n",
              "    <tr>\n",
              "      <th>8</th>\n",
              "      <td>False</td>\n",
              "      <td>K team</td>\n",
              "      <td>https://www.youtube.com/watch?v=3h-4nYHw4U0, h...</td>\n",
              "    </tr>\n",
              "    <tr>\n",
              "      <th>9</th>\n",
              "      <td>False</td>\n",
              "      <td>Tạp Hóa Comic</td>\n",
              "      <td>https://www.youtube.com/watch?v=B4jr-s7qRX4, h...</td>\n",
              "    </tr>\n",
              "    <tr>\n",
              "      <th>10</th>\n",
              "      <td>False</td>\n",
              "      <td>Bay Anime</td>\n",
              "      <td>https://www.youtube.com/watch?v=0ttXv8ZRrUg, h...</td>\n",
              "    </tr>\n",
              "    <tr>\n",
              "      <th>11</th>\n",
              "      <td>False</td>\n",
              "      <td>Funny Luffy</td>\n",
              "      <td>https://www.youtube.com/watch?v=-mJQf-GFndw, h...</td>\n",
              "    </tr>\n",
              "    <tr>\n",
              "      <th>12</th>\n",
              "      <td>False</td>\n",
              "      <td>Truyện Tổng Hợp</td>\n",
              "      <td>https://www.youtube.com/watch?v=n8NYCggqjVQ, h...</td>\n",
              "    </tr>\n",
              "    <tr>\n",
              "      <th>13</th>\n",
              "      <td>False</td>\n",
              "      <td>CodeXplore</td>\n",
              "      <td>https://www.youtube.com/watch?v=IiTZkYAMSJI, h...</td>\n",
              "    </tr>\n",
              "    <tr>\n",
              "      <th>14</th>\n",
              "      <td>False</td>\n",
              "      <td>Thân Quang Khoát</td>\n",
              "      <td>https://www.youtube.com/watch?v=6WpU1hsCknk, h...</td>\n",
              "    </tr>\n",
              "    <tr>\n",
              "      <th>15</th>\n",
              "      <td>False</td>\n",
              "      <td>Trang Anh Official</td>\n",
              "      <td>https://www.youtube.com/watch?v=gLQroNgTNzA, h...</td>\n",
              "    </tr>\n",
              "    <tr>\n",
              "      <th>16</th>\n",
              "      <td>False</td>\n",
              "      <td>AHUST Group (Hồ Văn Diên)</td>\n",
              "      <td>https://www.youtube.com/watch?v=krFI3wzS2ZY&amp;t=...</td>\n",
              "    </tr>\n",
              "    <tr>\n",
              "      <th>17</th>\n",
              "      <td>False</td>\n",
              "      <td>Sci-Love</td>\n",
              "      <td>https://www.youtube.com/watch?v=IzLGimlSw0Y, h...</td>\n",
              "    </tr>\n",
              "    <tr>\n",
              "      <th>18</th>\n",
              "      <td>False</td>\n",
              "      <td>Mangaime Official</td>\n",
              "      <td>https://www.youtube.com/watch?v=Tzf9Z7Q4m-c, h...</td>\n",
              "    </tr>\n",
              "    <tr>\n",
              "      <th>19</th>\n",
              "      <td>False</td>\n",
              "      <td>Thư Viện Thiên Văn</td>\n",
              "      <td>https://www.youtube.com/watch?v=JvCnOZEn4vI, h...</td>\n",
              "    </tr>\n",
              "  </tbody>\n",
              "</table>\n",
              "</div>\n",
              "      <button class=\"colab-df-convert\" onclick=\"convertToInteractive('df-8a700461-cd44-45d7-8f80-b13e5f339358')\"\n",
              "              title=\"Convert this dataframe to an interactive table.\"\n",
              "              style=\"display:none;\">\n",
              "        \n",
              "  <svg xmlns=\"http://www.w3.org/2000/svg\" height=\"24px\"viewBox=\"0 0 24 24\"\n",
              "       width=\"24px\">\n",
              "    <path d=\"M0 0h24v24H0V0z\" fill=\"none\"/>\n",
              "    <path d=\"M18.56 5.44l.94 2.06.94-2.06 2.06-.94-2.06-.94-.94-2.06-.94 2.06-2.06.94zm-11 1L8.5 8.5l.94-2.06 2.06-.94-2.06-.94L8.5 2.5l-.94 2.06-2.06.94zm10 10l.94 2.06.94-2.06 2.06-.94-2.06-.94-.94-2.06-.94 2.06-2.06.94z\"/><path d=\"M17.41 7.96l-1.37-1.37c-.4-.4-.92-.59-1.43-.59-.52 0-1.04.2-1.43.59L10.3 9.45l-7.72 7.72c-.78.78-.78 2.05 0 2.83L4 21.41c.39.39.9.59 1.41.59.51 0 1.02-.2 1.41-.59l7.78-7.78 2.81-2.81c.8-.78.8-2.07 0-2.86zM5.41 20L4 18.59l7.72-7.72 1.47 1.35L5.41 20z\"/>\n",
              "  </svg>\n",
              "      </button>\n",
              "      \n",
              "  <style>\n",
              "    .colab-df-container {\n",
              "      display:flex;\n",
              "      flex-wrap:wrap;\n",
              "      gap: 12px;\n",
              "    }\n",
              "\n",
              "    .colab-df-convert {\n",
              "      background-color: #E8F0FE;\n",
              "      border: none;\n",
              "      border-radius: 50%;\n",
              "      cursor: pointer;\n",
              "      display: none;\n",
              "      fill: #1967D2;\n",
              "      height: 32px;\n",
              "      padding: 0 0 0 0;\n",
              "      width: 32px;\n",
              "    }\n",
              "\n",
              "    .colab-df-convert:hover {\n",
              "      background-color: #E2EBFA;\n",
              "      box-shadow: 0px 1px 2px rgba(60, 64, 67, 0.3), 0px 1px 3px 1px rgba(60, 64, 67, 0.15);\n",
              "      fill: #174EA6;\n",
              "    }\n",
              "\n",
              "    [theme=dark] .colab-df-convert {\n",
              "      background-color: #3B4455;\n",
              "      fill: #D2E3FC;\n",
              "    }\n",
              "\n",
              "    [theme=dark] .colab-df-convert:hover {\n",
              "      background-color: #434B5C;\n",
              "      box-shadow: 0px 1px 3px 1px rgba(0, 0, 0, 0.15);\n",
              "      filter: drop-shadow(0px 1px 2px rgba(0, 0, 0, 0.3));\n",
              "      fill: #FFFFFF;\n",
              "    }\n",
              "  </style>\n",
              "\n",
              "      <script>\n",
              "        const buttonEl =\n",
              "          document.querySelector('#df-8a700461-cd44-45d7-8f80-b13e5f339358 button.colab-df-convert');\n",
              "        buttonEl.style.display =\n",
              "          google.colab.kernel.accessAllowed ? 'block' : 'none';\n",
              "\n",
              "        async function convertToInteractive(key) {\n",
              "          const element = document.querySelector('#df-8a700461-cd44-45d7-8f80-b13e5f339358');\n",
              "          const dataTable =\n",
              "            await google.colab.kernel.invokeFunction('convertToInteractive',\n",
              "                                                     [key], {});\n",
              "          if (!dataTable) return;\n",
              "\n",
              "          const docLinkHtml = 'Like what you see? Visit the ' +\n",
              "            '<a target=\"_blank\" href=https://colab.research.google.com/notebooks/data_table.ipynb>data table notebook</a>'\n",
              "            + ' to learn more about interactive tables.';\n",
              "          element.innerHTML = '';\n",
              "          dataTable['output_type'] = 'display_data';\n",
              "          await google.colab.output.renderOutput(dataTable, element);\n",
              "          const docLink = document.createElement('div');\n",
              "          docLink.innerHTML = docLinkHtml;\n",
              "          element.appendChild(docLink);\n",
              "        }\n",
              "      </script>\n",
              "    </div>\n",
              "  </div>\n",
              "  "
            ],
            "text/plain": [
              "    Crawled                 Voice Name  \\\n",
              "0     False               Chu Văn Biên   \n",
              "1     False        Vted-Đặng Thành Nam   \n",
              "2     False           Nguyễn Anh Phong   \n",
              "3     False  Cô Vũ Mai Phương Official   \n",
              "4     False            Bi Huỳnh Senpai   \n",
              "5     False                  Top Manga   \n",
              "6     False              Sakura Review   \n",
              "7     False       Góc Khán Đài (Hoang)   \n",
              "8     False                     K team   \n",
              "9     False              Tạp Hóa Comic   \n",
              "10    False                  Bay Anime   \n",
              "11    False                Funny Luffy   \n",
              "12    False            Truyện Tổng Hợp   \n",
              "13    False                 CodeXplore   \n",
              "14    False           Thân Quang Khoát   \n",
              "15    False         Trang Anh Official   \n",
              "16    False  AHUST Group (Hồ Văn Diên)   \n",
              "17    False                   Sci-Love   \n",
              "18    False          Mangaime Official   \n",
              "19    False         Thư Viện Thiên Văn   \n",
              "\n",
              "                                         Playlist URL  \n",
              "0   https://www.youtube.com/watch?v=lb2K7RFaSWg&t=...  \n",
              "1   https://www.youtube.com/watch?v=TaFQlUVmeEM, h...  \n",
              "2   https://www.youtube.com/watch?v=3C4SjX4NVDE, h...  \n",
              "3   https://www.youtube.com/watch?v=cqjn5XBamRE, h...  \n",
              "4   https://www.youtube.com/watch?v=CC5oWWQvZlk, h...  \n",
              "5   https://www.youtube.com/watch?v=GOoLS5r5q5k, h...  \n",
              "6   https://www.youtube.com/watch?v=xraIbICYMYo, h...  \n",
              "7   https://www.youtube.com/watch?v=Q0w9rr5JOYM, h...  \n",
              "8   https://www.youtube.com/watch?v=3h-4nYHw4U0, h...  \n",
              "9   https://www.youtube.com/watch?v=B4jr-s7qRX4, h...  \n",
              "10  https://www.youtube.com/watch?v=0ttXv8ZRrUg, h...  \n",
              "11  https://www.youtube.com/watch?v=-mJQf-GFndw, h...  \n",
              "12  https://www.youtube.com/watch?v=n8NYCggqjVQ, h...  \n",
              "13  https://www.youtube.com/watch?v=IiTZkYAMSJI, h...  \n",
              "14  https://www.youtube.com/watch?v=6WpU1hsCknk, h...  \n",
              "15  https://www.youtube.com/watch?v=gLQroNgTNzA, h...  \n",
              "16  https://www.youtube.com/watch?v=krFI3wzS2ZY&t=...  \n",
              "17  https://www.youtube.com/watch?v=IzLGimlSw0Y, h...  \n",
              "18  https://www.youtube.com/watch?v=Tzf9Z7Q4m-c, h...  \n",
              "19  https://www.youtube.com/watch?v=JvCnOZEn4vI, h...  "
            ]
          },
          "execution_count": 7,
          "metadata": {},
          "output_type": "execute_result"
        }
      ],
      "source": [
        "not_crawled_metadata = metadata[metadata[\"Crawled\"] == False]\n",
        "not_crawled_metadata"
      ]
    },
    {
      "cell_type": "code",
      "execution_count": null,
      "metadata": {
        "colab": {
          "base_uri": "https://localhost:8080/"
        },
        "id": "cCk95N_kx9oQ",
        "outputId": "dd01e604-c1da-445e-8b9a-8be7e758cb8d"
      },
      "outputs": [
        {
          "name": "stderr",
          "output_type": "stream",
          "text": [
            "/usr/local/lib/python3.7/dist-packages/ipykernel_launcher.py:2: SettingWithCopyWarning: \n",
            "A value is trying to be set on a copy of a slice from a DataFrame.\n",
            "Try using .loc[row_indexer,col_indexer] = value instead\n",
            "\n",
            "See the caveats in the documentation: https://pandas.pydata.org/pandas-docs/stable/user_guide/indexing.html#returning-a-view-versus-a-copy\n",
            "  \n"
          ]
        }
      ],
      "source": [
        "prefix = 'd-'\n",
        "metadata[\"Voice Name\"] = metadata[\"Voice Name\"].apply(lambda x: prefix + x.strip().replace(\" \", \"-\"))"
      ]
    },
    {
      "cell_type": "code",
      "execution_count": null,
      "metadata": {
        "colab": {
          "base_uri": "https://localhost:8080/",
          "height": 206
        },
        "id": "qu0vaPWsx9oR",
        "outputId": "5fea18a8-6611-4409-a7fe-9423ee7de36a"
      },
      "outputs": [
        {
          "data": {
            "text/html": [
              "\n",
              "  <div id=\"df-3cb8725e-8590-40bc-aa7f-e60be31462d0\">\n",
              "    <div class=\"colab-df-container\">\n",
              "      <div>\n",
              "<style scoped>\n",
              "    .dataframe tbody tr th:only-of-type {\n",
              "        vertical-align: middle;\n",
              "    }\n",
              "\n",
              "    .dataframe tbody tr th {\n",
              "        vertical-align: top;\n",
              "    }\n",
              "\n",
              "    .dataframe thead th {\n",
              "        text-align: right;\n",
              "    }\n",
              "</style>\n",
              "<table border=\"1\" class=\"dataframe\">\n",
              "  <thead>\n",
              "    <tr style=\"text-align: right;\">\n",
              "      <th></th>\n",
              "      <th>Crawled</th>\n",
              "      <th>Voice Name</th>\n",
              "      <th>Playlist URL</th>\n",
              "    </tr>\n",
              "  </thead>\n",
              "  <tbody>\n",
              "    <tr>\n",
              "      <th>0</th>\n",
              "      <td>False</td>\n",
              "      <td>d-Chu-Văn-Biên</td>\n",
              "      <td>https://www.youtube.com/watch?v=lb2K7RFaSWg&amp;t=...</td>\n",
              "    </tr>\n",
              "    <tr>\n",
              "      <th>1</th>\n",
              "      <td>False</td>\n",
              "      <td>d-Vted-Đặng-Thành-Nam</td>\n",
              "      <td>https://www.youtube.com/watch?v=TaFQlUVmeEM, h...</td>\n",
              "    </tr>\n",
              "    <tr>\n",
              "      <th>2</th>\n",
              "      <td>False</td>\n",
              "      <td>d-Nguyễn-Anh-Phong</td>\n",
              "      <td>https://www.youtube.com/watch?v=3C4SjX4NVDE, h...</td>\n",
              "    </tr>\n",
              "    <tr>\n",
              "      <th>3</th>\n",
              "      <td>False</td>\n",
              "      <td>d-Cô-Vũ-Mai-Phương-Official</td>\n",
              "      <td>https://www.youtube.com/watch?v=cqjn5XBamRE, h...</td>\n",
              "    </tr>\n",
              "    <tr>\n",
              "      <th>4</th>\n",
              "      <td>False</td>\n",
              "      <td>d-Bi-Huỳnh-Senpai</td>\n",
              "      <td>https://www.youtube.com/watch?v=CC5oWWQvZlk, h...</td>\n",
              "    </tr>\n",
              "  </tbody>\n",
              "</table>\n",
              "</div>\n",
              "      <button class=\"colab-df-convert\" onclick=\"convertToInteractive('df-3cb8725e-8590-40bc-aa7f-e60be31462d0')\"\n",
              "              title=\"Convert this dataframe to an interactive table.\"\n",
              "              style=\"display:none;\">\n",
              "        \n",
              "  <svg xmlns=\"http://www.w3.org/2000/svg\" height=\"24px\"viewBox=\"0 0 24 24\"\n",
              "       width=\"24px\">\n",
              "    <path d=\"M0 0h24v24H0V0z\" fill=\"none\"/>\n",
              "    <path d=\"M18.56 5.44l.94 2.06.94-2.06 2.06-.94-2.06-.94-.94-2.06-.94 2.06-2.06.94zm-11 1L8.5 8.5l.94-2.06 2.06-.94-2.06-.94L8.5 2.5l-.94 2.06-2.06.94zm10 10l.94 2.06.94-2.06 2.06-.94-2.06-.94-.94-2.06-.94 2.06-2.06.94z\"/><path d=\"M17.41 7.96l-1.37-1.37c-.4-.4-.92-.59-1.43-.59-.52 0-1.04.2-1.43.59L10.3 9.45l-7.72 7.72c-.78.78-.78 2.05 0 2.83L4 21.41c.39.39.9.59 1.41.59.51 0 1.02-.2 1.41-.59l7.78-7.78 2.81-2.81c.8-.78.8-2.07 0-2.86zM5.41 20L4 18.59l7.72-7.72 1.47 1.35L5.41 20z\"/>\n",
              "  </svg>\n",
              "      </button>\n",
              "      \n",
              "  <style>\n",
              "    .colab-df-container {\n",
              "      display:flex;\n",
              "      flex-wrap:wrap;\n",
              "      gap: 12px;\n",
              "    }\n",
              "\n",
              "    .colab-df-convert {\n",
              "      background-color: #E8F0FE;\n",
              "      border: none;\n",
              "      border-radius: 50%;\n",
              "      cursor: pointer;\n",
              "      display: none;\n",
              "      fill: #1967D2;\n",
              "      height: 32px;\n",
              "      padding: 0 0 0 0;\n",
              "      width: 32px;\n",
              "    }\n",
              "\n",
              "    .colab-df-convert:hover {\n",
              "      background-color: #E2EBFA;\n",
              "      box-shadow: 0px 1px 2px rgba(60, 64, 67, 0.3), 0px 1px 3px 1px rgba(60, 64, 67, 0.15);\n",
              "      fill: #174EA6;\n",
              "    }\n",
              "\n",
              "    [theme=dark] .colab-df-convert {\n",
              "      background-color: #3B4455;\n",
              "      fill: #D2E3FC;\n",
              "    }\n",
              "\n",
              "    [theme=dark] .colab-df-convert:hover {\n",
              "      background-color: #434B5C;\n",
              "      box-shadow: 0px 1px 3px 1px rgba(0, 0, 0, 0.15);\n",
              "      filter: drop-shadow(0px 1px 2px rgba(0, 0, 0, 0.3));\n",
              "      fill: #FFFFFF;\n",
              "    }\n",
              "  </style>\n",
              "\n",
              "      <script>\n",
              "        const buttonEl =\n",
              "          document.querySelector('#df-3cb8725e-8590-40bc-aa7f-e60be31462d0 button.colab-df-convert');\n",
              "        buttonEl.style.display =\n",
              "          google.colab.kernel.accessAllowed ? 'block' : 'none';\n",
              "\n",
              "        async function convertToInteractive(key) {\n",
              "          const element = document.querySelector('#df-3cb8725e-8590-40bc-aa7f-e60be31462d0');\n",
              "          const dataTable =\n",
              "            await google.colab.kernel.invokeFunction('convertToInteractive',\n",
              "                                                     [key], {});\n",
              "          if (!dataTable) return;\n",
              "\n",
              "          const docLinkHtml = 'Like what you see? Visit the ' +\n",
              "            '<a target=\"_blank\" href=https://colab.research.google.com/notebooks/data_table.ipynb>data table notebook</a>'\n",
              "            + ' to learn more about interactive tables.';\n",
              "          element.innerHTML = '';\n",
              "          dataTable['output_type'] = 'display_data';\n",
              "          await google.colab.output.renderOutput(dataTable, element);\n",
              "          const docLink = document.createElement('div');\n",
              "          docLink.innerHTML = docLinkHtml;\n",
              "          element.appendChild(docLink);\n",
              "        }\n",
              "      </script>\n",
              "    </div>\n",
              "  </div>\n",
              "  "
            ],
            "text/plain": [
              "   Crawled                   Voice Name  \\\n",
              "0    False               d-Chu-Văn-Biên   \n",
              "1    False        d-Vted-Đặng-Thành-Nam   \n",
              "2    False           d-Nguyễn-Anh-Phong   \n",
              "3    False  d-Cô-Vũ-Mai-Phương-Official   \n",
              "4    False            d-Bi-Huỳnh-Senpai   \n",
              "\n",
              "                                        Playlist URL  \n",
              "0  https://www.youtube.com/watch?v=lb2K7RFaSWg&t=...  \n",
              "1  https://www.youtube.com/watch?v=TaFQlUVmeEM, h...  \n",
              "2  https://www.youtube.com/watch?v=3C4SjX4NVDE, h...  \n",
              "3  https://www.youtube.com/watch?v=cqjn5XBamRE, h...  \n",
              "4  https://www.youtube.com/watch?v=CC5oWWQvZlk, h...  "
            ]
          },
          "execution_count": 9,
          "metadata": {},
          "output_type": "execute_result"
        }
      ],
      "source": [
        "metadata.head()"
      ]
    },
    {
      "cell_type": "markdown",
      "metadata": {
        "id": "B5GdObsLx9oR"
      },
      "source": [
        "# Downloading mp3 and converting to wav "
      ]
    },
    {
      "cell_type": "code",
      "execution_count": null,
      "metadata": {
        "colab": {
          "base_uri": "https://localhost:8080/"
        },
        "id": "cV_CcRPCx9oS",
        "outputId": "38a2326a-70f6-49fe-8829-a09c8af7985f"
      },
      "outputs": [
        {
          "data": {
            "text/plain": [
              "Crawled                                                     False\n",
              "Voice Name                                            d-Bay-Anime\n",
              "Playlist URL    https://www.youtube.com/watch?v=0ttXv8ZRrUg, h...\n",
              "Name: 10, dtype: object"
            ]
          },
          "execution_count": 10,
          "metadata": {},
          "output_type": "execute_result"
        }
      ],
      "source": [
        "metadata_0 = metadata.iloc[10]\n",
        "metadata_0"
      ]
    },
    {
      "cell_type": "code",
      "execution_count": null,
      "metadata": {
        "colab": {
          "base_uri": "https://localhost:8080/",
          "height": 36
        },
        "id": "fYwyaa89x9oS",
        "outputId": "1fae6938-1292-47e5-f64e-2afc65738201"
      },
      "outputs": [
        {
          "data": {
            "application/vnd.google.colaboratory.intrinsic+json": {
              "type": "string"
            },
            "text/plain": [
              "'/content/drive/MyDrive/Deep Learning project/data/wav/d-Bay-Anime/'"
            ]
          },
          "execution_count": 11,
          "metadata": {},
          "output_type": "execute_result"
        }
      ],
      "source": [
        "root_dir = \"/content/drive/MyDrive/Deep Learning project/data/wav/\"\n",
        "save_dir = root_dir + metadata_0[\"Voice Name\"] + '/'\n",
        "save_dir"
      ]
    },
    {
      "cell_type": "code",
      "execution_count": null,
      "metadata": {
        "id": "OyOz50d1x9oT"
      },
      "outputs": [],
      "source": [
        "if not os.path.exists(save_dir):\n",
        "    os.makedirs(save_dir)"
      ]
    },
    {
      "cell_type": "code",
      "execution_count": null,
      "metadata": {
        "colab": {
          "base_uri": "https://localhost:8080/"
        },
        "id": "G6F42l_Fx9oT",
        "outputId": "9b8cbd6b-cd18-41ae-f9a6-482daef2c96e"
      },
      "outputs": [
        {
          "data": {
            "text/plain": [
              "['https://www.youtube.com/watch?v=0ttXv8ZRrUg',\n",
              " 'https://www.youtube.com/watch?v=j_DK_8jKMIk',\n",
              " 'https://www.youtube.com/watch?v=Du8P-USG7Ho']"
            ]
          },
          "execution_count": 13,
          "metadata": {},
          "output_type": "execute_result"
        }
      ],
      "source": [
        "urls = [url.strip() for url in metadata_0[\"Playlist URL\"].split(',')]\n",
        "urls"
      ]
    },
    {
      "cell_type": "code",
      "execution_count": null,
      "metadata": {
        "id": "haRnrFkax9oU"
      },
      "outputs": [],
      "source": [
        "def download_mp3(url: str, destination: str):\n",
        "    yt = YouTube(url)\n",
        "    \n",
        "    # extract only audio\n",
        "    audio = yt.streams.filter(only_audio=True).order_by(\"abr\").desc().first()\n",
        "    audio_name = audio.default_filename.split('.')[0]\n",
        "\n",
        "    if os.path.exists(destination + audio_name + '.mp3') or os.path.exists(destination + audio_name + '.wav'):\n",
        "        mp3_path = \"\"\n",
        "    else:\n",
        "        # download the file\n",
        "        out_path = audio.download(output_path=destination)\n",
        "        \n",
        "        # save the file\n",
        "        base, extension = os.path.splitext(out_path)\n",
        "        mp3_path = base + '.mp3'\n",
        "        os.rename(out_path, mp3_path)\n",
        "\n",
        "    return mp3_path"
      ]
    },
    {
      "cell_type": "code",
      "execution_count": null,
      "metadata": {
        "id": "rW4eE7j7x9oU"
      },
      "outputs": [],
      "source": [
        "def mp3_to_wav(mp3_path):\n",
        "    wav_path = os.path.splitext(mp3_path)[0] + '.wav'\n",
        "    subprocess.call(['ffmpeg', '-i', mp3_path, wav_path])\n",
        "\n",
        "    return wav_path"
      ]
    },
    {
      "cell_type": "code",
      "execution_count": null,
      "metadata": {
        "id": "cx9iu280x9oV"
      },
      "outputs": [],
      "source": [
        "def resample_wav(wav_path):\n",
        "    y, sr = librosa.load(wav_path)       \n",
        "    y_16k = librosa.resample(y, orig_sr=sr, target_sr=16000)\n",
        "    y_mono = librosa.to_mono(y_16k)\n",
        "    soundfile.write(wav_path, y_mono, 16000)"
      ]
    },
    {
      "cell_type": "code",
      "execution_count": null,
      "metadata": {
        "id": "c-okZC-Dx9oV"
      },
      "outputs": [],
      "source": [
        "for url in urls:\n",
        "    if not os.path.exists(save_dir + url):\n",
        "        mp3_path = download_mp3(url, save_dir)\n",
        "        if mp3_path != \"\":\n",
        "            wav_path = mp3_to_wav(mp3_path)\n",
        "            resample_wav(wav_path)\n",
        "            os.remove(mp3_path)"
      ]
    },
    {
      "cell_type": "markdown",
      "metadata": {
        "id": "CsyLdC8dx9oW"
      },
      "source": [
        "# VAD"
      ]
    },
    {
      "cell_type": "code",
      "execution_count": 3,
      "metadata": {
        "id": "7S38eoDNx9oW"
      },
      "outputs": [],
      "source": [
        "from torch import hub\n",
        "from pprint import pprint\n",
        "from glob import glob"
      ]
    },
    {
      "cell_type": "code",
      "execution_count": null,
      "metadata": {
        "id": "3UNFSF43x9oX"
      },
      "outputs": [],
      "source": [
        "wav_path = \"/content/drive/MyDrive/Deep Learning project/data/wav/d-Bay-Anime/34 Sự Thật Zoro - Kiếm Sĩ Đầu Rêu Lạc Lối.wav\"\n",
        "sampling_rate = 16000"
      ]
    },
    {
      "cell_type": "code",
      "execution_count": null,
      "metadata": {
        "colab": {
          "base_uri": "https://localhost:8080/"
        },
        "id": "FDGPCCYgx9oX",
        "outputId": "72ae9925-9f5e-4b73-eafc-10be21c3915b"
      },
      "outputs": [
        {
          "name": "stderr",
          "output_type": "stream",
          "text": [
            "/usr/local/lib/python3.7/dist-packages/torch/hub.py:267: UserWarning: You are about to download and run code from an untrusted repository. In a future release, this won't be allowed. To add the repository to your trusted list, change the command to {calling_fn}(..., trust_repo=False) and a command prompt will appear asking for an explicit confirmation of trust, or load(..., trust_repo=True), which will assume that the prompt is to be answered with 'yes'. You can also use load(..., trust_repo='check') which will only prompt for confirmation if the repo is not already trusted. This will eventually be the default behaviour\n",
            "  \"You are about to download and run code from an untrusted repository. In a future release, this won't \"\n",
            "Downloading: \"https://github.com/snakers4/silero-vad/zipball/master\" to /root/.cache/torch/hub/master.zip\n"
          ]
        }
      ],
      "source": [
        "model, utils = hub.load(repo_or_dir=\"snakers4/silero-vad\", model=\"silero_vad\", force_reload=True)\n",
        "get_speech_timestamps, save_audio, read_audio, VADIterator, collect_chunks = utils"
      ]
    },
    {
      "cell_type": "code",
      "execution_count": null,
      "metadata": {
        "id": "U8pc6mrcJm2E"
      },
      "outputs": [],
      "source": [
        "def vad(wav_path):\n",
        "    j = 0\n",
        "    wav = read_audio(wav_path, sampling_rate = sampling_rate)\n",
        "    speech_timestamps = get_speech_timestamps(wav, model, threshold=0.5, sampling_rate=sampling_rate)\n",
        "\n",
        "    wav_duration = 0\n",
        "    k = 0   \n",
        "    speech_timestamps_concat = []\n",
        "    wav_concat = []\n",
        "\n",
        "    while(True):\n",
        "        wav_duration += speech_timestamps[k]['end'] - speech_timestamps[k]['start'] \n",
        "        speech_timestamps_concat.append(speech_timestamps[k])\n",
        "            \n",
        "        if k < len(speech_timestamps)-1:\n",
        "            k += 1\n",
        "            if wav_duration >= 3*16000:      \n",
        "                wav_concat.append(collect_chunks(speech_timestamps_concat, wav))\n",
        "                speech_timestamps_concat.clear()\n",
        "                wav_duration = 0\n",
        "                continue\n",
        "            else:\n",
        "                continue\n",
        "        else:\n",
        "            wav_concat.append(collect_chunks(speech_timestamps_concat, wav))\n",
        "            speech_timestamps_concat.clear()\n",
        "            wav_duration = 0\n",
        "            break   \n",
        "\n",
        "    wav_dir = os.path.splitext(wav_path)[0] + '/'\n",
        "    if not os.path.exists(wav_dir):\n",
        "        os.makedirs(wav_dir)\n",
        "\n",
        "    for i in wav_concat:\n",
        "        if not os.path.exists(wav_dir + str(j) + '.wav'):\n",
        "            save_audio(wav_dir + str(j) + '.wav', i, sampling_rate = sampling_rate)\n",
        "        j += 1 \n",
        "    \n",
        "    return wav_dir"
      ]
    },
    {
      "cell_type": "code",
      "execution_count": null,
      "metadata": {
        "id": "yIizajDv93v3"
      },
      "outputs": [],
      "source": [
        "def re_vad(wav_dir):\n",
        "    files = glob(wav_dir + '*.wav')\n",
        "    j = len(files) + 1\n",
        "\n",
        "    for file in files:\n",
        "        y, sr = soundfile.read(file)\n",
        "        wav_length = len(y) / sr\n",
        "\n",
        "        if wav_length >= 10:\n",
        "            wav = read_audio(file, sampling_rate = sampling_rate)\n",
        "            speech_timestamps = get_speech_timestamps(wav, model, threshold=0.9, sampling_rate=sampling_rate)\n",
        "            wav_duration = 0\n",
        "            k = 0   \n",
        "            speech_timestamps_concat = []\n",
        "            wav_concat = []\n",
        "\n",
        "            if len(speech_timestamps) != 0:\n",
        "                while(True):\n",
        "                    wav_duration =  wav_duration + speech_timestamps[k]['end'] - speech_timestamps[k]['start']\n",
        "                    \n",
        "                    speech_timestamps_concat.append(speech_timestamps[k])\n",
        "                    \n",
        "                    if k < len(speech_timestamps)-1:\n",
        "                        k += 1\n",
        "                        if wav_duration >= 3*16000:      \n",
        "                            wav_concat.append(collect_chunks(speech_timestamps_concat, wav))\n",
        "                            speech_timestamps_concat.clear()\n",
        "                            wav_duration = 0\n",
        "                            continue\n",
        "                        else:\n",
        "                            continue\n",
        "                    else:\n",
        "                        wav_concat.append(collect_chunks(speech_timestamps_concat, wav))\n",
        "                        speech_timestamps_concat.clear()\n",
        "                        wav_duration = 0\n",
        "                        break\n",
        "                else:\n",
        "                    continue   \n",
        "                        \n",
        "            for i in wav_concat:\n",
        "                save_audio(wav_dir + str(j) + '.wav', i, sampling_rate = sampling_rate)\n",
        "                j += 1 "
      ]
    },
    {
      "cell_type": "code",
      "execution_count": null,
      "metadata": {
        "id": "WS6TSA8nc1vM"
      },
      "outputs": [],
      "source": [
        "def remove_wav(wav_dir: str):\n",
        "    files = glob(wav_dir + '*.wav')\n",
        "    k = 0\n",
        "\n",
        "    for file in files:\n",
        "        y, sr = soundfile.read(file)\n",
        "        wav_length = len(y) / sr\n",
        "\n",
        "        if wav_length < 3 or wav_length > 10:\n",
        "            os.remove(file)\n",
        "        else:\n",
        "            new_file = os.path.join(file.rsplit('/', maxsplit=1)[0], f'{k}.wav')\n",
        "            os.rename(file, new_file)\n",
        "            k += 1"
      ]
    },
    {
      "cell_type": "code",
      "execution_count": null,
      "metadata": {
        "id": "HZLmuxzwL9cc"
      },
      "outputs": [],
      "source": [
        "wav_dir = vad(wav_path)"
      ]
    },
    {
      "cell_type": "code",
      "execution_count": null,
      "metadata": {
        "id": "5YENRWyJQGDV"
      },
      "outputs": [],
      "source": [
        "re_vad(wav_dir)"
      ]
    },
    {
      "cell_type": "code",
      "execution_count": null,
      "metadata": {
        "id": "C31AGPOtaS26"
      },
      "outputs": [],
      "source": [
        "remove_wav(wav_dir)"
      ]
    },
    {
      "cell_type": "markdown",
      "metadata": {
        "id": "hVUNj-14kb2i"
      },
      "source": [
        "# Outlier removal"
      ]
    },
    {
      "cell_type": "code",
      "execution_count": 8,
      "metadata": {
        "colab": {
          "base_uri": "https://localhost:8080/"
        },
        "id": "B9c4em-ZsPSf",
        "outputId": "1d58ff9b-9bf1-4b76-9822-7e9032457bef"
      },
      "outputs": [
        {
          "output_type": "stream",
          "name": "stdout",
          "text": [
            "Looking in indexes: https://pypi.org/simple, https://us-python.pkg.dev/colab-wheels/public/simple/\n",
            "Collecting speechbrain\n",
            "  Downloading speechbrain-0.5.13-py3-none-any.whl (498 kB)\n",
            "\u001b[K     |████████████████████████████████| 498 kB 9.2 MB/s \n",
            "\u001b[?25hCollecting huggingface-hub\n",
            "  Downloading huggingface_hub-0.10.1-py3-none-any.whl (163 kB)\n",
            "\u001b[K     |████████████████████████████████| 163 kB 63.3 MB/s \n",
            "\u001b[?25hCollecting hyperpyyaml\n",
            "  Downloading HyperPyYAML-1.0.1.tar.gz (14 kB)\n",
            "Requirement already satisfied: numpy in /usr/local/lib/python3.7/dist-packages (from speechbrain) (1.21.6)\n",
            "Requirement already satisfied: torch>=1.9 in /usr/local/lib/python3.7/dist-packages (from speechbrain) (1.12.1+cu113)\n",
            "Requirement already satisfied: torchaudio in /usr/local/lib/python3.7/dist-packages (from speechbrain) (0.12.1+cu113)\n",
            "Requirement already satisfied: joblib in /usr/local/lib/python3.7/dist-packages (from speechbrain) (1.2.0)\n",
            "Collecting sentencepiece\n",
            "  Downloading sentencepiece-0.1.97-cp37-cp37m-manylinux_2_17_x86_64.manylinux2014_x86_64.whl (1.3 MB)\n",
            "\u001b[K     |████████████████████████████████| 1.3 MB 58.9 MB/s \n",
            "\u001b[?25hRequirement already satisfied: scipy in /usr/local/lib/python3.7/dist-packages (from speechbrain) (1.7.3)\n",
            "Requirement already satisfied: tqdm in /usr/local/lib/python3.7/dist-packages (from speechbrain) (4.64.1)\n",
            "Requirement already satisfied: packaging in /usr/local/lib/python3.7/dist-packages (from speechbrain) (21.3)\n",
            "Requirement already satisfied: typing-extensions in /usr/local/lib/python3.7/dist-packages (from torch>=1.9->speechbrain) (4.1.1)\n",
            "Requirement already satisfied: requests in /usr/local/lib/python3.7/dist-packages (from huggingface-hub->speechbrain) (2.23.0)\n",
            "Requirement already satisfied: filelock in /usr/local/lib/python3.7/dist-packages (from huggingface-hub->speechbrain) (3.8.0)\n",
            "Requirement already satisfied: importlib-metadata in /usr/local/lib/python3.7/dist-packages (from huggingface-hub->speechbrain) (4.13.0)\n",
            "Requirement already satisfied: pyyaml>=5.1 in /usr/local/lib/python3.7/dist-packages (from huggingface-hub->speechbrain) (6.0)\n",
            "Requirement already satisfied: pyparsing!=3.0.5,>=2.0.2 in /usr/local/lib/python3.7/dist-packages (from packaging->speechbrain) (3.0.9)\n",
            "Collecting ruamel.yaml>=0.17.8\n",
            "  Downloading ruamel.yaml-0.17.21-py3-none-any.whl (109 kB)\n",
            "\u001b[K     |████████████████████████████████| 109 kB 70.5 MB/s \n",
            "\u001b[?25hCollecting ruamel.yaml.clib>=0.2.6\n",
            "  Downloading ruamel.yaml.clib-0.2.7-cp37-cp37m-manylinux_2_17_x86_64.manylinux2014_x86_64.manylinux_2_24_x86_64.whl (500 kB)\n",
            "\u001b[K     |████████████████████████████████| 500 kB 66.2 MB/s \n",
            "\u001b[?25hRequirement already satisfied: zipp>=0.5 in /usr/local/lib/python3.7/dist-packages (from importlib-metadata->huggingface-hub->speechbrain) (3.10.0)\n",
            "Requirement already satisfied: idna<3,>=2.5 in /usr/local/lib/python3.7/dist-packages (from requests->huggingface-hub->speechbrain) (2.10)\n",
            "Requirement already satisfied: urllib3!=1.25.0,!=1.25.1,<1.26,>=1.21.1 in /usr/local/lib/python3.7/dist-packages (from requests->huggingface-hub->speechbrain) (1.24.3)\n",
            "Requirement already satisfied: certifi>=2017.4.17 in /usr/local/lib/python3.7/dist-packages (from requests->huggingface-hub->speechbrain) (2022.9.24)\n",
            "Requirement already satisfied: chardet<4,>=3.0.2 in /usr/local/lib/python3.7/dist-packages (from requests->huggingface-hub->speechbrain) (3.0.4)\n",
            "Building wheels for collected packages: hyperpyyaml\n",
            "  Building wheel for hyperpyyaml (setup.py) ... \u001b[?25l\u001b[?25hdone\n",
            "  Created wheel for hyperpyyaml: filename=HyperPyYAML-1.0.1-py3-none-any.whl size=15193 sha256=8c5d4bf51480c510e8ac270a7ebbba8ef66605be52b213a3813995384cb56138\n",
            "  Stored in directory: /root/.cache/pip/wheels/6c/87/65/266d722c3932f81f16332ce842e972be8421e3a9cd3771766b\n",
            "Successfully built hyperpyyaml\n",
            "Installing collected packages: ruamel.yaml.clib, ruamel.yaml, sentencepiece, hyperpyyaml, huggingface-hub, speechbrain\n",
            "Successfully installed huggingface-hub-0.10.1 hyperpyyaml-1.0.1 ruamel.yaml-0.17.21 ruamel.yaml.clib-0.2.7 sentencepiece-0.1.97 speechbrain-0.5.13\n"
          ]
        }
      ],
      "source": [
        "!pip install speechbrain"
      ]
    },
    {
      "cell_type": "code",
      "execution_count": 4,
      "metadata": {
        "id": "PVr1J-0kiPwf"
      },
      "outputs": [],
      "source": [
        "from speechbrain.pretrained import EncoderClassifier\n",
        "from tqdm import tqdm\n",
        "import torch\n",
        "import torch.nn.functional as F\n",
        "from scipy.spatial.distance import cdist\n",
        "import numpy as np\n",
        "from copy import deepcopy\n",
        "import torchaudio"
      ]
    },
    {
      "cell_type": "code",
      "source": [
        "device = device = torch.device(\"cuda\" if torch.cuda.is_available() else \"cpu\")"
      ],
      "metadata": {
        "id": "bLh6Pa0AU7f5"
      },
      "execution_count": 5,
      "outputs": []
    },
    {
      "cell_type": "code",
      "execution_count": 6,
      "metadata": {
        "id": "SAdhofz3qnM1"
      },
      "outputs": [],
      "source": [
        "model = EncoderClassifier.from_hparams(source=\"speechbrain/spkrec-ecapa-voxceleb\", run_opts={\"device\":device})"
      ]
    },
    {
      "cell_type": "code",
      "execution_count": 7,
      "metadata": {
        "id": "o4ZwFRNk5IFo"
      },
      "outputs": [],
      "source": [
        "wav_dir = \"/content/drive/MyDrive/Deep Learning project/data/wav/d-Bay-Anime/34 Sự Thật Zoro - Kiếm Sĩ Đầu Rêu Lạc Lối/\""
      ]
    },
    {
      "cell_type": "code",
      "execution_count": 8,
      "metadata": {
        "id": "wPuUU3Om7N-J"
      },
      "outputs": [],
      "source": [
        "files = glob(wav_dir + '*.wav')\n",
        "embeddings = {}"
      ]
    },
    {
      "cell_type": "code",
      "execution_count": 9,
      "metadata": {
        "colab": {
          "base_uri": "https://localhost:8080/"
        },
        "id": "oX1yh0nH7UrE",
        "outputId": "7e45faac-075d-4bc1-dc4f-5352856c55e5"
      },
      "outputs": [
        {
          "output_type": "stream",
          "name": "stderr",
          "text": [
            "100%|██████████| 153/153 [00:12<00:00, 12.73it/s]\n"
          ]
        }
      ],
      "source": [
        "for idx, file in tqdm(enumerate(files), total=len(files)):\n",
        "    signal, _  = torchaudio.load(file)\n",
        "\n",
        "    # Splited utterance matrix\n",
        "    max_audio = 3*16000\n",
        "    feats = []\n",
        "    startframe = np.linspace(0, signal.shape[1] - max_audio, num=5)\n",
        "\n",
        "    for asf in startframe:\n",
        "        feat = signal[0, int(asf): int(asf) + max_audio]\n",
        "        feats.append(feat)\n",
        "\n",
        "    feats = np.stack(feats, axis = 0).astype('f')\n",
        "    data = torch.FloatTensor(feats)\n",
        "\n",
        "    # Speaker embeddings\n",
        "    embedding_1 = model.encode_batch(signal.to(device))\n",
        "    embedding_1 = F.normalize(embedding_1[0, 0, :], p=2, dim=0)\n",
        "    embedding_2 = model.encode_batch(data.to(device))\n",
        "    embedding_2 = F.normalize(embedding_2.permute(1, 0, 2)[0, :, :], p=2, dim=1)\n",
        "\n",
        "    embeddings[file] = [embedding_1, embedding_2]"
      ]
    },
    {
      "cell_type": "code",
      "execution_count": 10,
      "metadata": {
        "id": "RYBfz9WTMbZR"
      },
      "outputs": [],
      "source": [
        "scores = np.array([ [0]*(len(files) - 1) for i in range(len(files)) ], dtype='f')"
      ]
    },
    {
      "cell_type": "code",
      "execution_count": 11,
      "metadata": {
        "colab": {
          "base_uri": "https://localhost:8080/"
        },
        "id": "OJTFiBehF0WQ",
        "outputId": "aa55764f-9d8c-4a80-e117-2407c5017d12"
      },
      "outputs": [
        {
          "output_type": "stream",
          "name": "stderr",
          "text": [
            "  0%|          | 0/153 [00:00<?, ?it/s]/usr/local/lib/python3.7/dist-packages/ipykernel_launcher.py:9: UserWarning: The use of `x.T` on tensors of dimension other than 2 to reverse their shape is deprecated and it will throw an error in a future release. Consider `x.mT` to transpose batches of matricesor `x.permute(*torch.arange(x.ndim - 1, -1, -1))` to reverse the dimensions of a tensor. (Triggered internally at  ../aten/src/ATen/native/TensorShape.cpp:2981.)\n",
            "  if __name__ == '__main__':\n",
            "100%|██████████| 153/153 [00:02<00:00, 55.38it/s]\n"
          ]
        }
      ],
      "source": [
        "for i, file in tqdm(enumerate(files), total=len(files)):\n",
        "    remaining_files = deepcopy(files)\n",
        "    remaining_files.remove(file)\n",
        "    embedding_11, embedding_12 = embeddings[file]\n",
        "\n",
        "    for j in range(len(remaining_files)):\n",
        "        embedding_21, embedding_22 = embeddings[remaining_files[j]]\n",
        "        # Compute the scores\n",
        "        score_1 = torch.mean(torch.matmul(embedding_11, embedding_21.T))\n",
        "        score_2 = torch.mean(torch.matmul(embedding_12, embedding_22.T))\n",
        "        score = (score_1 + score_2) / 2\n",
        "        score = score.detach().cpu().numpy()\n",
        "        scores[i, j] = score"
      ]
    },
    {
      "cell_type": "code",
      "source": [
        "mean_scores = np.mean(scores, axis=1)"
      ],
      "metadata": {
        "id": "KiBpsQ72KVr7"
      },
      "execution_count": 12,
      "outputs": []
    },
    {
      "cell_type": "code",
      "source": [
        "mean_scores"
      ],
      "metadata": {
        "colab": {
          "base_uri": "https://localhost:8080/"
        },
        "id": "hdZROz4bV34N",
        "outputId": "6d81954a-6310-4b7e-c723-68644d07b25d"
      },
      "execution_count": 13,
      "outputs": [
        {
          "output_type": "execute_result",
          "data": {
            "text/plain": [
              "array([0.6656892 , 0.7261392 , 0.6321623 , 0.7185927 , 0.70443547,\n",
              "       0.48974353, 0.6786146 , 0.7106064 , 0.6926557 , 0.642682  ,\n",
              "       0.7404093 , 0.67249525, 0.72070444, 0.6927182 , 0.6723831 ,\n",
              "       0.6982084 , 0.7075573 , 0.68033105, 0.65998816, 0.71396184,\n",
              "       0.7115004 , 0.65340453, 0.6821719 , 0.7233439 , 0.60733676,\n",
              "       0.7008173 , 0.65330535, 0.72005385, 0.71000177, 0.718649  ,\n",
              "       0.7225804 , 0.6828216 , 0.65486485, 0.7284385 , 0.73714495,\n",
              "       0.7106382 , 0.751422  , 0.7406618 , 0.67730755, 0.7408595 ,\n",
              "       0.75995713, 0.6515819 , 0.746051  , 0.70010835, 0.68956214,\n",
              "       0.66404635, 0.71837395, 0.69818795, 0.67489654, 0.6434561 ,\n",
              "       0.6886773 , 0.68376464, 0.70892304, 0.7246654 , 0.7161688 ,\n",
              "       0.69406986, 0.7274107 , 0.7179249 , 0.7304995 , 0.7124105 ,\n",
              "       0.70473653, 0.6606819 , 0.7344688 , 0.72595775, 0.69527376,\n",
              "       0.73522455, 0.7379015 , 0.7191775 , 0.7028798 , 0.6917282 ,\n",
              "       0.7117623 , 0.6981435 , 0.6441128 , 0.7025701 , 0.68979084,\n",
              "       0.6966462 , 0.7503408 , 0.69610226, 0.7471191 , 0.69955224,\n",
              "       0.7030718 , 0.6985515 , 0.67552966, 0.7263411 , 0.7440007 ,\n",
              "       0.7009603 , 0.7385722 , 0.72048056, 0.69285953, 0.7438174 ,\n",
              "       0.6958972 , 0.69852024, 0.6930552 , 0.683119  , 0.68025315,\n",
              "       0.72489566, 0.6802942 , 0.7256604 , 0.70048475, 0.71927047,\n",
              "       0.70144546, 0.70181394, 0.7372902 , 0.71418494, 0.73578495,\n",
              "       0.7183331 , 0.6185351 , 0.69093925, 0.6720901 , 0.732471  ,\n",
              "       0.7101578 , 0.7243924 , 0.6702331 , 0.64390904, 0.67925763,\n",
              "       0.6814955 , 0.6888298 , 0.59587514, 0.74258524, 0.6649378 ,\n",
              "       0.6562671 , 0.71011823, 0.6822332 , 0.74506336, 0.6679959 ,\n",
              "       0.6842383 , 0.72711164, 0.69558066, 0.71532863, 0.7306286 ,\n",
              "       0.6755417 , 0.697392  , 0.70195454, 0.70521283, 0.70295167,\n",
              "       0.68019897, 0.7060073 , 0.71958375, 0.6968719 , 0.6731309 ,\n",
              "       0.7096701 , 0.700748  , 0.7251685 , 0.71608096, 0.6094215 ,\n",
              "       0.7068985 , 0.73047537, 0.7230747 , 0.6465125 , 0.7294918 ,\n",
              "       0.7149575 , 0.6190099 , 0.7373254 ], dtype=float32)"
            ]
          },
          "metadata": {},
          "execution_count": 13
        }
      ]
    },
    {
      "cell_type": "code",
      "source": [
        "threshold = 0.45 #0.5\n",
        "\n",
        "for i, file in tqdm(enumerate(files), total=len(files)):\n",
        "    if mean_scores[i] < threshold:\n",
        "        # print(mean_scores[i], file)\n",
        "        os.remove(file)"
      ],
      "metadata": {
        "colab": {
          "base_uri": "https://localhost:8080/"
        },
        "id": "RbDza6SCLvsA",
        "outputId": "4bd5f14f-961e-4856-fff5-5b682037526a"
      },
      "execution_count": 14,
      "outputs": [
        {
          "output_type": "stream",
          "name": "stderr",
          "text": [
            "100%|██████████| 153/153 [00:00<00:00, 227805.65it/s]\n"
          ]
        }
      ]
    },
    {
      "cell_type": "code",
      "source": [],
      "metadata": {
        "id": "r3HNxvxPMIy8"
      },
      "execution_count": null,
      "outputs": []
    }
  ],
  "metadata": {
    "colab": {
      "collapsed_sections": [],
      "toc_visible": true,
      "provenance": []
    },
    "gpuClass": "standard",
    "kernelspec": {
      "display_name": "Python 3.8.12 ('LearnML')",
      "language": "python",
      "name": "python3"
    },
    "language_info": {
      "codemirror_mode": {
        "name": "ipython",
        "version": 3
      },
      "file_extension": ".py",
      "mimetype": "text/x-python",
      "name": "python",
      "nbconvert_exporter": "python",
      "pygments_lexer": "ipython3",
      "version": "3.8.12"
    },
    "vscode": {
      "interpreter": {
        "hash": "7a92c992b800fa774aac7d5822a596282d125a26635bcd06f076e6986145244f"
      }
    },
    "accelerator": "GPU"
  },
  "nbformat": 4,
  "nbformat_minor": 0
}